{
 "metadata": {
  "name": ""
 },
 "nbformat": 3,
 "nbformat_minor": 0,
 "worksheets": [
  {
   "cells": [
    {
     "cell_type": "code",
     "collapsed": false,
     "input": [
      "import json\n",
      "\n",
      "count = 0\n",
      "entitycount = 0\n",
      "nullcount = 0\n",
      "data = []\n",
      "\n",
      "with open('../entity-level/merged.linedel.json') as f:\n",
      "    for line in f:\n",
      "        data.append(json.loads(line))\n",
      "        count +=1\n",
      "        \n",
      "print \"There are \" + str(count) + \" records in the file.\""
     ],
     "language": "python",
     "metadata": {},
     "outputs": [
      {
       "output_type": "stream",
       "stream": "stdout",
       "text": [
        "There are 100 records in the file.\n"
       ]
      }
     ],
     "prompt_number": 3
    },
    {
     "cell_type": "code",
     "collapsed": false,
     "input": [
      "len(data)"
     ],
     "language": "python",
     "metadata": {},
     "outputs": [
      {
       "metadata": {},
       "output_type": "pyout",
       "prompt_number": 8,
       "text": [
        "100"
       ]
      }
     ],
     "prompt_number": 8
    },
    {
     "cell_type": "code",
     "collapsed": false,
     "input": [
      "entities = []\n",
      "for record in data:\n",
      "    #print len(record[\"results\"][\"entities\"])\n",
      "    for ent in record[\"results\"][\"entities\"]:\n",
      "        entities.append(ent)\n",
      "\n",
      "print len(entities)"
     ],
     "language": "python",
     "metadata": {},
     "outputs": [
      {
       "output_type": "stream",
       "stream": "stdout",
       "text": [
        "104\n"
       ]
      }
     ],
     "prompt_number": 16
    },
    {
     "cell_type": "code",
     "collapsed": false,
     "input": [
      "records = []\n",
      "for ent in entities:\n",
      "#    tmp =   (ent[\"name\"] + \"|\" + \n",
      "#            ent[\"description\"] + \"|\" +\n",
      "#            ent[\"url\"] + \"|\" +\n",
      "#            ent[\"collectionName\"] + \"|\" + \n",
      "#            ent[\"waybackCalendar\"] + \"|\" + \n",
      "#            ent[\"firstCapture\"][\"formattedDate\"])\n",
      "    tmp = [ent[\"name\"], ent[\"description\"], ent[\"url\"], ent[\"collectionName\"], ent[\"waybackCalendar\"], ent[\"firstCapture\"][\"formattedDate\"]]\n",
      "    #print tmp\n",
      "    records.append(tmp)\n",
      "records[0:2]"
     ],
     "language": "python",
     "metadata": {},
     "outputs": [
      {
       "metadata": {},
       "output_type": "pyout",
       "prompt_number": 43,
       "text": [
        "[[u'Aaron Siegel',\n",
        "  u'',\n",
        "  u'http://aaronsiegel.net/',\n",
        "  u\"New York University Archive of Contemporary Composers' Websites\",\n",
        "  u'https://wayback.archive-it.org/4049/*/http://aaronsiegel.net/',\n",
        "  u'Feb 12, 2014'],\n",
        " [u'Ang\\xe9lica Negr\\xf3n \\xbb \\u201cWhen Silence Collapses\\u201d',\n",
        "  u'',\n",
        "  u'http://angelicanegron.com/',\n",
        "  u\"New York University Archive of Contemporary Composers' Websites\",\n",
        "  u'https://wayback.archive-it.org/4049/*/http://angelicanegron.com/',\n",
        "  u'Apr 25, 2014']]"
       ]
      }
     ],
     "prompt_number": 43
    },
    {
     "cell_type": "code",
     "collapsed": false,
     "input": [
      "import numpy as np\n",
      "import pandas as pd\n",
      "\n",
      "#ndents = np.array(pipedel)\n",
      "\n",
      "#ndents\n",
      "\n",
      "df = pd.DataFrame.from_records(records, columns=[\"Name\", \"Description\", \"URL\", \"Collection\", \"Wayback\", \"Date\"])"
     ],
     "language": "python",
     "metadata": {},
     "outputs": [],
     "prompt_number": 62
    },
    {
     "cell_type": "code",
     "collapsed": false,
     "input": [
      "df"
     ],
     "language": "python",
     "metadata": {},
     "outputs": [
      {
       "html": [
        "<pre>\n",
        "&lt;class 'pandas.core.frame.DataFrame'&gt;\n",
        "Int64Index: 104 entries, 0 to 103\n",
        "Data columns (total 6 columns):\n",
        "Name           104  non-null values\n",
        "Description    104  non-null values\n",
        "URL            104  non-null values\n",
        "Collection     104  non-null values\n",
        "Wayback        104  non-null values\n",
        "Date           104  non-null values\n",
        "dtypes: object(6)\n",
        "</pre>"
       ],
       "metadata": {},
       "output_type": "pyout",
       "prompt_number": 63,
       "text": [
        "<class 'pandas.core.frame.DataFrame'>\n",
        "Int64Index: 104 entries, 0 to 103\n",
        "Data columns (total 6 columns):\n",
        "Name           104  non-null values\n",
        "Description    104  non-null values\n",
        "URL            104  non-null values\n",
        "Collection     104  non-null values\n",
        "Wayback        104  non-null values\n",
        "Date           104  non-null values\n",
        "dtypes: object(6)"
       ]
      }
     ],
     "prompt_number": 63
    },
    {
     "cell_type": "code",
     "collapsed": false,
     "input": [
      "df.head()"
     ],
     "language": "python",
     "metadata": {},
     "outputs": [
      {
       "html": [
        "<div style=\"max-height:1000px;max-width:1500px;overflow:auto;\">\n",
        "<table border=\"1\" class=\"dataframe\">\n",
        "  <thead>\n",
        "    <tr style=\"text-align: right;\">\n",
        "      <th></th>\n",
        "      <th>Name</th>\n",
        "      <th>Description</th>\n",
        "      <th>URL</th>\n",
        "      <th>Collection</th>\n",
        "      <th>Wayback</th>\n",
        "      <th>Date</th>\n",
        "    </tr>\n",
        "  </thead>\n",
        "  <tbody>\n",
        "    <tr>\n",
        "      <th>0</th>\n",
        "      <td>                               Aaron Siegel</td>\n",
        "      <td> </td>\n",
        "      <td>    http://aaronsiegel.net/</td>\n",
        "      <td> New York University Archive of Contemporary Co...</td>\n",
        "      <td> https://wayback.archive-it.org/4049/*/http://a...</td>\n",
        "      <td> Feb 12, 2014</td>\n",
        "    </tr>\n",
        "    <tr>\n",
        "      <th>1</th>\n",
        "      <td> Ang\u00e9lica Negr\u00f3n \u00bb \u201cWhen Silence Collapses\u201d</td>\n",
        "      <td> </td>\n",
        "      <td> http://angelicanegron.com/</td>\n",
        "      <td> New York University Archive of Contemporary Co...</td>\n",
        "      <td> https://wayback.archive-it.org/4049/*/http://a...</td>\n",
        "      <td> Apr 25, 2014</td>\n",
        "    </tr>\n",
        "    <tr>\n",
        "      <th>2</th>\n",
        "      <td>                        bio | Ben Hackbarth</td>\n",
        "      <td> </td>\n",
        "      <td>   http://benhackbarth.com/</td>\n",
        "      <td> New York University Archive of Contemporary Co...</td>\n",
        "      <td> https://wayback.archive-it.org/4049/*/http://b...</td>\n",
        "      <td> Apr 25, 2014</td>\n",
        "    </tr>\n",
        "    <tr>\n",
        "      <th>3</th>\n",
        "      <td>                               Floriculture</td>\n",
        "      <td> </td>\n",
        "      <td>    http://carlmaguire.com/</td>\n",
        "      <td> New York University Archive of Contemporary Co...</td>\n",
        "      <td> https://wayback.archive-it.org/4049/*/http://c...</td>\n",
        "      <td> Feb 12, 2014</td>\n",
        "    </tr>\n",
        "    <tr>\n",
        "      <th>4</th>\n",
        "      <td>                               Charles Ames</td>\n",
        "      <td> </td>\n",
        "      <td>    http://charlesames.net/</td>\n",
        "      <td> New York University Archive of Contemporary Co...</td>\n",
        "      <td> https://wayback.archive-it.org/4049/*/http://c...</td>\n",
        "      <td> Apr 25, 2014</td>\n",
        "    </tr>\n",
        "  </tbody>\n",
        "</table>\n",
        "</div>"
       ],
       "metadata": {},
       "output_type": "pyout",
       "prompt_number": 71,
       "text": [
        "                                         Name Description  \\\n",
        "0                                Aaron Siegel               \n",
        "1  Ang\u00e9lica Negr\u00f3n \u00bb \u201cWhen Silence Collapses\u201d               \n",
        "2                         bio | Ben Hackbarth               \n",
        "3                                Floriculture               \n",
        "4                                Charles Ames               \n",
        "\n",
        "                          URL  \\\n",
        "0     http://aaronsiegel.net/   \n",
        "1  http://angelicanegron.com/   \n",
        "2    http://benhackbarth.com/   \n",
        "3     http://carlmaguire.com/   \n",
        "4     http://charlesames.net/   \n",
        "\n",
        "                                          Collection  \\\n",
        "0  New York University Archive of Contemporary Co...   \n",
        "1  New York University Archive of Contemporary Co...   \n",
        "2  New York University Archive of Contemporary Co...   \n",
        "3  New York University Archive of Contemporary Co...   \n",
        "4  New York University Archive of Contemporary Co...   \n",
        "\n",
        "                                             Wayback          Date  \n",
        "0  https://wayback.archive-it.org/4049/*/http://a...  Feb 12, 2014  \n",
        "1  https://wayback.archive-it.org/4049/*/http://a...  Apr 25, 2014  \n",
        "2  https://wayback.archive-it.org/4049/*/http://b...  Apr 25, 2014  \n",
        "3  https://wayback.archive-it.org/4049/*/http://c...  Feb 12, 2014  \n",
        "4  https://wayback.archive-it.org/4049/*/http://c...  Apr 25, 2014  "
       ]
      }
     ],
     "prompt_number": 71
    },
    {
     "cell_type": "code",
     "collapsed": false,
     "input": [
      "df[0:1]"
     ],
     "language": "python",
     "metadata": {},
     "outputs": [
      {
       "html": [
        "<div style=\"max-height:1000px;max-width:1500px;overflow:auto;\">\n",
        "<table border=\"1\" class=\"dataframe\">\n",
        "  <thead>\n",
        "    <tr style=\"text-align: right;\">\n",
        "      <th></th>\n",
        "      <th>Name</th>\n",
        "      <th>Description</th>\n",
        "      <th>URL</th>\n",
        "      <th>Collection</th>\n",
        "      <th>Wayback</th>\n",
        "      <th>Date</th>\n",
        "    </tr>\n",
        "  </thead>\n",
        "  <tbody>\n",
        "    <tr>\n",
        "      <th>0</th>\n",
        "      <td> Aaron Siegel</td>\n",
        "      <td> </td>\n",
        "      <td> http://aaronsiegel.net/</td>\n",
        "      <td> New York University Archive of Contemporary Co...</td>\n",
        "      <td> https://wayback.archive-it.org/4049/*/http://a...</td>\n",
        "      <td> Feb 12, 2014</td>\n",
        "    </tr>\n",
        "  </tbody>\n",
        "</table>\n",
        "</div>"
       ],
       "metadata": {},
       "output_type": "pyout",
       "prompt_number": 70,
       "text": [
        "           Name Description                      URL  \\\n",
        "0  Aaron Siegel              http://aaronsiegel.net/   \n",
        "\n",
        "                                          Collection  \\\n",
        "0  New York University Archive of Contemporary Co...   \n",
        "\n",
        "                                             Wayback          Date  \n",
        "0  https://wayback.archive-it.org/4049/*/http://a...  Feb 12, 2014  "
       ]
      }
     ],
     "prompt_number": 70
    },
    {
     "cell_type": "code",
     "collapsed": false,
     "input": [
      "df2 = df.applymap(lambda x: np.nan if isinstance(x, basestring) and x.isspace() else x)\n"
     ],
     "language": "python",
     "metadata": {},
     "outputs": [],
     "prompt_number": 72
    },
    {
     "cell_type": "code",
     "collapsed": false,
     "input": [
      "df2"
     ],
     "language": "python",
     "metadata": {},
     "outputs": [
      {
       "html": [
        "<pre>\n",
        "&lt;class 'pandas.core.frame.DataFrame'&gt;\n",
        "Int64Index: 104 entries, 0 to 103\n",
        "Data columns (total 6 columns):\n",
        "Name           104  non-null values\n",
        "Description    104  non-null values\n",
        "URL            104  non-null values\n",
        "Collection     104  non-null values\n",
        "Wayback        104  non-null values\n",
        "Date           104  non-null values\n",
        "dtypes: object(6)\n",
        "</pre>"
       ],
       "metadata": {},
       "output_type": "pyout",
       "prompt_number": 73,
       "text": [
        "<class 'pandas.core.frame.DataFrame'>\n",
        "Int64Index: 104 entries, 0 to 103\n",
        "Data columns (total 6 columns):\n",
        "Name           104  non-null values\n",
        "Description    104  non-null values\n",
        "URL            104  non-null values\n",
        "Collection     104  non-null values\n",
        "Wayback        104  non-null values\n",
        "Date           104  non-null values\n",
        "dtypes: object(6)"
       ]
      }
     ],
     "prompt_number": 73
    },
    {
     "cell_type": "code",
     "collapsed": false,
     "input": [],
     "language": "python",
     "metadata": {},
     "outputs": []
    }
   ],
   "metadata": {}
  }
 ]
}